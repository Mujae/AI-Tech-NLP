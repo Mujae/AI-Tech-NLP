{
  "nbformat": 4,
  "nbformat_minor": 0,
  "metadata": {
    "colab": {
      "provenance": []
    },
    "kernelspec": {
      "name": "python3",
      "display_name": "Python 3"
    },
    "language_info": {
      "name": "python"
    }
  },
  "cells": [
    {
      "cell_type": "code",
      "execution_count": 4,
      "metadata": {
        "colab": {
          "base_uri": "https://localhost:8080/"
        },
        "id": "un7NxLQm54RU",
        "outputId": "cb27561d-11c4-475a-e968-dd8f028f8c9c"
      },
      "outputs": [
        {
          "output_type": "stream",
          "name": "stdout",
          "text": [
            "Dataset URL: https://www.kaggle.com/datasets/abhishek14398/salary-dataset-simple-linear-regression\n",
            "License(s): CC0-1.0\n",
            "Downloading salary-dataset-simple-linear-regression.zip to /content\n",
            "  0% 0.00/457 [00:00<?, ?B/s]\n",
            "100% 457/457 [00:00<00:00, 939kB/s]\n",
            "Archive:  salary-dataset-simple-linear-regression.zip\n",
            "  inflating: Salary_dataset.csv      \n"
          ]
        }
      ],
      "source": [
        "!kaggle datasets download -d abhishek14398/salary-dataset-simple-linear-regression\n",
        "!unzip salary-dataset-simple-linear-regression.zip"
      ]
    },
    {
      "cell_type": "code",
      "source": [
        "import pandas as pd\n",
        "\n",
        "data = pd.read_csv('Salary_dataset.csv', header=0)\n",
        "print(data)"
      ],
      "metadata": {
        "colab": {
          "base_uri": "https://localhost:8080/"
        },
        "id": "pWvyDlk55_PB",
        "outputId": "2adb6b47-b6cd-4c5e-9872-3231730c8e64"
      },
      "execution_count": 9,
      "outputs": [
        {
          "output_type": "stream",
          "name": "stdout",
          "text": [
            "    Unnamed: 0  YearsExperience    Salary\n",
            "0            0              1.2   39344.0\n",
            "1            1              1.4   46206.0\n",
            "2            2              1.6   37732.0\n",
            "3            3              2.1   43526.0\n",
            "4            4              2.3   39892.0\n",
            "5            5              3.0   56643.0\n",
            "6            6              3.1   60151.0\n",
            "7            7              3.3   54446.0\n",
            "8            8              3.3   64446.0\n",
            "9            9              3.8   57190.0\n",
            "10          10              4.0   63219.0\n",
            "11          11              4.1   55795.0\n",
            "12          12              4.1   56958.0\n",
            "13          13              4.2   57082.0\n",
            "14          14              4.6   61112.0\n",
            "15          15              5.0   67939.0\n",
            "16          16              5.2   66030.0\n",
            "17          17              5.4   83089.0\n",
            "18          18              6.0   81364.0\n",
            "19          19              6.1   93941.0\n",
            "20          20              6.9   91739.0\n",
            "21          21              7.2   98274.0\n",
            "22          22              8.0  101303.0\n",
            "23          23              8.3  113813.0\n",
            "24          24              8.8  109432.0\n",
            "25          25              9.1  105583.0\n",
            "26          26              9.6  116970.0\n",
            "27          27              9.7  112636.0\n",
            "28          28             10.4  122392.0\n",
            "29          29             10.6  121873.0\n"
          ]
        }
      ]
    },
    {
      "cell_type": "code",
      "source": [
        "x = data.iloc[:,1].values\n",
        "y = data.iloc[:,2].values\n",
        "\n",
        "print(x)\n",
        "print(y)"
      ],
      "metadata": {
        "colab": {
          "base_uri": "https://localhost:8080/"
        },
        "id": "VNwgLteN8KMl",
        "outputId": "0402f227-b39d-4076-c102-bccab6ae8b84"
      },
      "execution_count": 10,
      "outputs": [
        {
          "output_type": "stream",
          "name": "stdout",
          "text": [
            "[ 1.2  1.4  1.6  2.1  2.3  3.   3.1  3.3  3.3  3.8  4.   4.1  4.1  4.2\n",
            "  4.6  5.   5.2  5.4  6.   6.1  6.9  7.2  8.   8.3  8.8  9.1  9.6  9.7\n",
            " 10.4 10.6]\n",
            "[ 39344.  46206.  37732.  43526.  39892.  56643.  60151.  54446.  64446.\n",
            "  57190.  63219.  55795.  56958.  57082.  61112.  67939.  66030.  83089.\n",
            "  81364.  93941.  91739.  98274. 101303. 113813. 109432. 105583. 116970.\n",
            " 112636. 122392. 121873.]\n"
          ]
        }
      ]
    },
    {
      "cell_type": "code",
      "source": [
        "import numpy as np\n",
        "\n",
        "comatrix = np.corrcoef(x, y)\n",
        "coefficient = comatrix[0,1]\n",
        "print(comatrix)\n",
        "print(coefficient)"
      ],
      "metadata": {
        "colab": {
          "base_uri": "https://localhost:8080/"
        },
        "id": "jTwdf0-h8rEK",
        "outputId": "9fe2859f-beae-4669-f60f-9f8976d3476e"
      },
      "execution_count": 11,
      "outputs": [
        {
          "output_type": "stream",
          "name": "stdout",
          "text": [
            "[[1.         0.97824162]\n",
            " [0.97824162 1.        ]]\n",
            "0.9782416184887599\n"
          ]
        }
      ]
    },
    {
      "cell_type": "code",
      "source": [
        "import matplotlib.pyplot as plt\n",
        "\n",
        "plt.scatter(x, y)\n",
        "plt.xlabel('YearExp')\n",
        "plt.ylabel('Salary')\n",
        "plt.title('YearExp and Salary')\n",
        "plt.grid(False)\n",
        "plt.show()"
      ],
      "metadata": {
        "colab": {
          "base_uri": "https://localhost:8080/",
          "height": 472
        },
        "id": "eD62PdPU9yRS",
        "outputId": "b6f75114-11dc-4445-b0b0-b4fb4a8bbf7a"
      },
      "execution_count": 14,
      "outputs": [
        {
          "output_type": "display_data",
          "data": {
            "text/plain": [
              "<Figure size 640x480 with 1 Axes>"
            ],
            "image/png": "[encoded data removed]"
          },
          "metadata": {}
        }
      ]
    },
    {
      "cell_type": "code",
      "source": [],
      "metadata": {
        "id": "s-f54m0-_DYa"
      },
      "execution_count": null,
      "outputs": []
    },
    {
      "cell_type": "code",
      "source": [
        "import torch\n",
        "\n",
        "x_tensor = torch.tensor(x, dtype=torch.float32).view(-1,1)\n",
        "y_tensor = torch.tensor(y, dtype=torch.float32).view(-1,1)\n",
        "\n",
        "print(x_tensor)"
      ],
      "metadata": {
        "colab": {
          "base_uri": "https://localhost:8080/"
        },
        "id": "Y86QqXhr-md0",
        "outputId": "5e9956e4-0170-4381-aac0-12b2ebe93851"
      },
      "execution_count": 15,
      "outputs": [
        {
          "output_type": "stream",
          "name": "stdout",
          "text": [
            "tensor([[ 1.2000],\n",
            "        [ 1.4000],\n",
            "        [ 1.6000],\n",
            "        [ 2.1000],\n",
            "        [ 2.3000],\n",
            "        [ 3.0000],\n",
            "        [ 3.1000],\n",
            "        [ 3.3000],\n",
            "        [ 3.3000],\n",
            "        [ 3.8000],\n",
            "        [ 4.0000],\n",
            "        [ 4.1000],\n",
            "        [ 4.1000],\n",
            "        [ 4.2000],\n",
            "        [ 4.6000],\n",
            "        [ 5.0000],\n",
            "        [ 5.2000],\n",
            "        [ 5.4000],\n",
            "        [ 6.0000],\n",
            "        [ 6.1000],\n",
            "        [ 6.9000],\n",
            "        [ 7.2000],\n",
            "        [ 8.0000],\n",
            "        [ 8.3000],\n",
            "        [ 8.8000],\n",
            "        [ 9.1000],\n",
            "        [ 9.6000],\n",
            "        [ 9.7000],\n",
            "        [10.4000],\n",
            "        [10.6000]])\n"
          ]
        }
      ]
    },
    {
      "cell_type": "code",
      "source": [
        "import torch.nn as nn\n",
        "\n",
        "class LinearRegressionModel(nn.Module):\n",
        "  def __init__(self):\n",
        "    super(LinearRegressionModel, self).__init__()\n",
        "    self.linear = nn.Linear(1,1)\n",
        "\n",
        "  def forward(self, x):\n",
        "    y = self.linear(x_tensor)\n",
        "    return y"
      ],
      "metadata": {
        "id": "PUybLp7A_KAH"
      },
      "execution_count": 19,
      "outputs": []
    },
    {
      "cell_type": "code",
      "source": [
        "model = LinearRegressionModel()"
      ],
      "metadata": {
        "id": "6merMrVjPiQV"
      },
      "execution_count": 20,
      "outputs": []
    },
    {
      "cell_type": "code",
      "source": [
        "device = torch.device('cuda' if torch.cuda.is_available() else 'cpu')\n",
        "model.to(device)\n",
        "x_tensor = x_tensor.to(device)\n",
        "y_tensor = y_tensor.to(device)"
      ],
      "metadata": {
        "id": "NlykoC0tPyvy"
      },
      "execution_count": 21,
      "outputs": []
    },
    {
      "cell_type": "code",
      "source": [],
      "metadata": {
        "id": "hME86ZurQEw4"
      },
      "execution_count": null,
      "outputs": []
    }
  ]
}
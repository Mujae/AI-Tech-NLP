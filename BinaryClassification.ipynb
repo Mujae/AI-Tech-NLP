{
  "nbformat": 4,
  "nbformat_minor": 0,
  "metadata": {
    "colab": {
      "provenance": [],
      "gpuType": "T4"
    },
    "kernelspec": {
      "name": "python3",
      "display_name": "Python 3"
    },
    "language_info": {
      "name": "python"
    },
    "accelerator": "GPU"
  },
  "cells": [
    {
      "cell_type": "code",
      "execution_count": 1,
      "metadata": {
        "id": "Q_rX7k-YmYv7"
      },
      "outputs": [],
      "source": [
        "import torch"
      ]
    },
    {
      "cell_type": "code",
      "source": [
        "!kaggle datasets download -d uciml/iris\n",
        "!unzip iris.zip"
      ],
      "metadata": {
        "colab": {
          "base_uri": "https://localhost:8080/"
        },
        "id": "AZRtBCghqD-J",
        "outputId": "7075b64b-f26c-403f-97c2-b4b979256af6"
      },
      "execution_count": 2,
      "outputs": [
        {
          "output_type": "stream",
          "name": "stdout",
          "text": [
            "Dataset URL: https://www.kaggle.com/datasets/uciml/iris\n",
            "License(s): CC0-1.0\n",
            "Downloading iris.zip to /content\n",
            "  0% 0.00/3.60k [00:00<?, ?B/s]\n",
            "100% 3.60k/3.60k [00:00<00:00, 5.72MB/s]\n",
            "Archive:  iris.zip\n",
            "  inflating: Iris.csv                \n",
            "  inflating: database.sqlite         \n"
          ]
        }
      ]
    },
    {
      "cell_type": "code",
      "source": [
        "import pandas as pd\n",
        "\n",
        "df = pd.read_csv('Iris.csv', header=0)[[\"PetalLengthCm\", \"Species\"]]"
      ],
      "metadata": {
        "id": "GhVE6r-dqMtl"
      },
      "execution_count": 3,
      "outputs": []
    },
    {
      "cell_type": "code",
      "source": [
        "print(df)"
      ],
      "metadata": {
        "colab": {
          "base_uri": "https://localhost:8080/"
        },
        "id": "iZDDyOdOqZFm",
        "outputId": "300c0b52-75f8-42a4-fd09-8450f1d99323"
      },
      "execution_count": null,
      "outputs": [
        {
          "output_type": "stream",
          "name": "stdout",
          "text": [
            "     PetalLengthCm         Species\n",
            "0              1.4     Iris-setosa\n",
            "1              1.4     Iris-setosa\n",
            "2              1.3     Iris-setosa\n",
            "3              1.5     Iris-setosa\n",
            "4              1.4     Iris-setosa\n",
            "..             ...             ...\n",
            "145            5.2  Iris-virginica\n",
            "146            5.0  Iris-virginica\n",
            "147            5.2  Iris-virginica\n",
            "148            5.4  Iris-virginica\n",
            "149            5.1  Iris-virginica\n",
            "\n",
            "[150 rows x 2 columns]\n"
          ]
        }
      ]
    },
    {
      "cell_type": "code",
      "source": [
        "filtered_data = df[df['Species'].isin(['Iris-setos', 'Iris-versicolor'])]\n",
        "\n",
        "filtered_df = filtered_data\n",
        "\n",
        "print(filtered_df)"
      ],
      "metadata": {
        "colab": {
          "base_uri": "https://localhost:8080/"
        },
        "id": "wHJNx4AIqcI8",
        "outputId": "66da43f6-d9a4-42ae-c7ca-a11ac1ae94a3"
      },
      "execution_count": null,
      "outputs": [
        {
          "output_type": "stream",
          "name": "stdout",
          "text": [
            "    PetalLengthCm          Species\n",
            "50            4.7  Iris-versicolor\n",
            "51            4.5  Iris-versicolor\n",
            "52            4.9  Iris-versicolor\n",
            "53            4.0  Iris-versicolor\n",
            "54            4.6  Iris-versicolor\n",
            "55            4.5  Iris-versicolor\n",
            "56            4.7  Iris-versicolor\n",
            "57            3.3  Iris-versicolor\n",
            "58            4.6  Iris-versicolor\n",
            "59            3.9  Iris-versicolor\n",
            "60            3.5  Iris-versicolor\n",
            "61            4.2  Iris-versicolor\n",
            "62            4.0  Iris-versicolor\n",
            "63            4.7  Iris-versicolor\n",
            "64            3.6  Iris-versicolor\n",
            "65            4.4  Iris-versicolor\n",
            "66            4.5  Iris-versicolor\n",
            "67            4.1  Iris-versicolor\n",
            "68            4.5  Iris-versicolor\n",
            "69            3.9  Iris-versicolor\n",
            "70            4.8  Iris-versicolor\n",
            "71            4.0  Iris-versicolor\n",
            "72            4.9  Iris-versicolor\n",
            "73            4.7  Iris-versicolor\n",
            "74            4.3  Iris-versicolor\n",
            "75            4.4  Iris-versicolor\n",
            "76            4.8  Iris-versicolor\n",
            "77            5.0  Iris-versicolor\n",
            "78            4.5  Iris-versicolor\n",
            "79            3.5  Iris-versicolor\n",
            "80            3.8  Iris-versicolor\n",
            "81            3.7  Iris-versicolor\n",
            "82            3.9  Iris-versicolor\n",
            "83            5.1  Iris-versicolor\n",
            "84            4.5  Iris-versicolor\n",
            "85            4.5  Iris-versicolor\n",
            "86            4.7  Iris-versicolor\n",
            "87            4.4  Iris-versicolor\n",
            "88            4.1  Iris-versicolor\n",
            "89            4.0  Iris-versicolor\n",
            "90            4.4  Iris-versicolor\n",
            "91            4.6  Iris-versicolor\n",
            "92            4.0  Iris-versicolor\n",
            "93            3.3  Iris-versicolor\n",
            "94            4.2  Iris-versicolor\n",
            "95            4.2  Iris-versicolor\n",
            "96            4.2  Iris-versicolor\n",
            "97            4.3  Iris-versicolor\n",
            "98            3.0  Iris-versicolor\n",
            "99            4.1  Iris-versicolor\n"
          ]
        }
      ]
    },
    {
      "cell_type": "code",
      "source": [
        "filtered_df.loc[:,'Species']=filtered_df['Species'].map({'Iris-setosa':0, 'Iris-versicolor':1})"
      ],
      "metadata": {
        "id": "lMlNozcSq9pH",
        "colab": {
          "base_uri": "https://localhost:8080/",
          "height": 139
        },
        "outputId": "8994bfcc-1d92-4da1-8dc1-aa6fc2f01bad"
      },
      "execution_count": 4,
      "outputs": [
        {
          "output_type": "error",
          "ename": "NameError",
          "evalue": "name 'filtered_df' is not defined",
          "traceback": [
            "\u001b[0;31m---------------------------------------------------------------------------\u001b[0m",
            "\u001b[0;31mNameError\u001b[0m                                 Traceback (most recent call last)",
            "\u001b[0;32m<ipython-input-4-dd2f1cbe046e>\u001b[0m in \u001b[0;36m<cell line: 1>\u001b[0;34m()\u001b[0m\n\u001b[0;32m----> 1\u001b[0;31m \u001b[0mfiltered_df\u001b[0m\u001b[0;34m.\u001b[0m\u001b[0mloc\u001b[0m\u001b[0;34m[\u001b[0m\u001b[0;34m:\u001b[0m\u001b[0;34m,\u001b[0m\u001b[0;34m'Species'\u001b[0m\u001b[0;34m]\u001b[0m\u001b[0;34m=\u001b[0m\u001b[0mfiltered_df\u001b[0m\u001b[0;34m[\u001b[0m\u001b[0;34m'Species'\u001b[0m\u001b[0;34m]\u001b[0m\u001b[0;34m.\u001b[0m\u001b[0mmap\u001b[0m\u001b[0;34m(\u001b[0m\u001b[0;34m{\u001b[0m\u001b[0;34m'Iris-setosa'\u001b[0m\u001b[0;34m:\u001b[0m\u001b[0;36m0\u001b[0m\u001b[0;34m,\u001b[0m \u001b[0;34m'Iris-versicolor'\u001b[0m\u001b[0;34m:\u001b[0m\u001b[0;36m1\u001b[0m\u001b[0;34m}\u001b[0m\u001b[0;34m)\u001b[0m\u001b[0;34m\u001b[0m\u001b[0;34m\u001b[0m\u001b[0m\n\u001b[0m",
            "\u001b[0;31mNameError\u001b[0m: name 'filtered_df' is not defined"
          ]
        }
      ]
    },
    {
      "cell_type": "code",
      "source": [
        "x = filtered_df[['PetalLengthCm']].values\n",
        "y = filtered_df[['Species']].values.astype(int)"
      ],
      "metadata": {
        "id": "wt2Yzl5Sr4ey"
      },
      "execution_count": null,
      "outputs": []
    },
    {
      "cell_type": "code",
      "source": [
        "from sklearn.model_selection import train_test_split\n",
        "\n",
        "x_train, y_train, x_test, y_test = train_test_split(x, y, test_size=0.2, random_state=49)\n"
      ],
      "metadata": {
        "id": "NzVr0VDisSVG"
      },
      "execution_count": null,
      "outputs": []
    },
    {
      "cell_type": "code",
      "source": [
        "from sklearn.preprocessing import StandardScaler\n",
        "\n",
        "scaler = StandardScaler()\n",
        "x_train = scaler.fit_transform(x_train)\n",
        "x_test = scaler.transform(x_test)"
      ],
      "metadata": {
        "id": "9fMos4J5tIuj"
      },
      "execution_count": null,
      "outputs": []
    },
    {
      "cell_type": "code",
      "source": [
        "x_train = torch.tensor(x_train, dtype=torch.float32)\n",
        "x_test = torch.tensor(x_test, dtype=torch.float32)\n",
        "y_train = torch.tensor(y_train, dtype=torch.float32)\n",
        "y_test = torch.tensor(y_test, dtype=torch.float32)"
      ],
      "metadata": {
        "id": "FRRsyhPStbSq"
      },
      "execution_count": null,
      "outputs": []
    },
    {
      "cell_type": "code",
      "source": [
        "import torch.utils"
      ],
      "metadata": {
        "id": "lEIEF6RDtyR9"
      },
      "execution_count": null,
      "outputs": []
    },
    {
      "cell_type": "code",
      "source": [
        "train_dataset = Iris_Dataset(x_train, y_train)\n",
        "test_dataset = Iris_Dataset(x_test, y_test)\n",
        "\n",
        "batch_size = 7\n",
        "\n",
        "train_loader = torch.utils.data.DataLoader(train_dataset,batch_size=batch_size, shuffle=True)\n",
        "test_loader = torch.utils.data.DataLoader(test_dataset,batch_size=batch_size, shuffle=False0)"
      ],
      "metadata": {
        "colab": {
          "base_uri": "https://localhost:8080/",
          "height": 207
        },
        "id": "MyEsinB4n4mv",
        "outputId": "3c2478e8-35e3-4d47-d6b8-541c5dbd2124"
      },
      "execution_count": 5,
      "outputs": [
        {
          "output_type": "error",
          "ename": "NameError",
          "evalue": "name 'Iris_Dataset' is not defined",
          "traceback": [
            "\u001b[0;31m---------------------------------------------------------------------------\u001b[0m",
            "\u001b[0;31mNameError\u001b[0m                                 Traceback (most recent call last)",
            "\u001b[0;32m<ipython-input-5-43c49fb5b3f3>\u001b[0m in \u001b[0;36m<cell line: 1>\u001b[0;34m()\u001b[0m\n\u001b[0;32m----> 1\u001b[0;31m \u001b[0mtrain_dataset\u001b[0m \u001b[0;34m=\u001b[0m \u001b[0mIris_Dataset\u001b[0m\u001b[0;34m(\u001b[0m\u001b[0mx_train\u001b[0m\u001b[0;34m,\u001b[0m \u001b[0my_train\u001b[0m\u001b[0;34m)\u001b[0m\u001b[0;34m\u001b[0m\u001b[0;34m\u001b[0m\u001b[0m\n\u001b[0m\u001b[1;32m      2\u001b[0m \u001b[0mtest_dataset\u001b[0m \u001b[0;34m=\u001b[0m \u001b[0mIris_Dataset\u001b[0m\u001b[0;34m(\u001b[0m\u001b[0mx_test\u001b[0m\u001b[0;34m,\u001b[0m \u001b[0my_test\u001b[0m\u001b[0;34m)\u001b[0m\u001b[0;34m\u001b[0m\u001b[0;34m\u001b[0m\u001b[0m\n\u001b[1;32m      3\u001b[0m \u001b[0;34m\u001b[0m\u001b[0m\n\u001b[1;32m      4\u001b[0m \u001b[0mbatch_size\u001b[0m \u001b[0;34m=\u001b[0m \u001b[0;36m7\u001b[0m\u001b[0;34m\u001b[0m\u001b[0;34m\u001b[0m\u001b[0m\n\u001b[1;32m      5\u001b[0m \u001b[0;34m\u001b[0m\u001b[0m\n",
            "\u001b[0;31mNameError\u001b[0m: name 'Iris_Dataset' is not defined"
          ]
        }
      ]
    },
    {
      "cell_type": "code",
      "source": [
        "import torch.nn as nn\n",
        "\n",
        "class BinaryClassificationModel(nn.Module):\n",
        "  def __init__(self):\n",
        "    super(BinaryClassificationModel, self).__init__()\n",
        "    self.layer_1 = nn.Linear()\n",
        "    self.sigmoid = nn.Sigmoid()\n",
        "\n",
        "  def forward(self, inputs):\n",
        "    x = self.layer_1(inputs)\n",
        "    x = self.sigmoid(x)\n",
        "    return x\n"
      ],
      "metadata": {
        "id": "XfEtGIO5oK81"
      },
      "execution_count": null,
      "outputs": []
    },
    {
      "cell_type": "code",
      "source": [
        "model = BinaryClassificationModel()"
      ],
      "metadata": {
        "id": "b0CGXoAlpUNz"
      },
      "execution_count": null,
      "outputs": []
    }
  ]
}